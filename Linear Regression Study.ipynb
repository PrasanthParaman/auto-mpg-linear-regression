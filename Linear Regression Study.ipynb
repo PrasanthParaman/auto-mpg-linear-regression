{
 "cells": [
  {
   "cell_type": "code",
   "execution_count": 106,
   "id": "7b857c33",
   "metadata": {},
   "outputs": [],
   "source": [
    "import pandas as pd\n",
    "import matplotlib.pyplot as plt\n",
    "import sklearn"
   ]
  },
  {
   "cell_type": "code",
   "execution_count": 107,
   "id": "bb062289",
   "metadata": {},
   "outputs": [],
   "source": [
    "def load_data(file_path):\n",
    "    return pd.read_csv(file_path)"
   ]
  },
  {
   "cell_type": "code",
   "execution_count": 108,
   "id": "37225b19",
   "metadata": {},
   "outputs": [],
   "source": [
    "df = pd.read_csv('auto-mpg.csv')"
   ]
  },
  {
   "cell_type": "code",
   "execution_count": 109,
   "id": "5cbd3587",
   "metadata": {},
   "outputs": [
    {
     "data": {
      "text/html": [
       "<div>\n",
       "<style scoped>\n",
       "    .dataframe tbody tr th:only-of-type {\n",
       "        vertical-align: middle;\n",
       "    }\n",
       "\n",
       "    .dataframe tbody tr th {\n",
       "        vertical-align: top;\n",
       "    }\n",
       "\n",
       "    .dataframe thead th {\n",
       "        text-align: right;\n",
       "    }\n",
       "</style>\n",
       "<table border=\"1\" class=\"dataframe\">\n",
       "  <thead>\n",
       "    <tr style=\"text-align: right;\">\n",
       "      <th></th>\n",
       "      <th>mpg</th>\n",
       "      <th>cylinders</th>\n",
       "      <th>displacement</th>\n",
       "      <th>horsepower</th>\n",
       "      <th>weight</th>\n",
       "      <th>acceleration</th>\n",
       "      <th>model year</th>\n",
       "      <th>origin</th>\n",
       "      <th>car name</th>\n",
       "    </tr>\n",
       "  </thead>\n",
       "  <tbody>\n",
       "    <tr>\n",
       "      <th>0</th>\n",
       "      <td>18.0</td>\n",
       "      <td>8</td>\n",
       "      <td>307.0</td>\n",
       "      <td>130</td>\n",
       "      <td>3504</td>\n",
       "      <td>12.0</td>\n",
       "      <td>70</td>\n",
       "      <td>1</td>\n",
       "      <td>chevrolet chevelle malibu</td>\n",
       "    </tr>\n",
       "    <tr>\n",
       "      <th>1</th>\n",
       "      <td>15.0</td>\n",
       "      <td>8</td>\n",
       "      <td>350.0</td>\n",
       "      <td>165</td>\n",
       "      <td>3693</td>\n",
       "      <td>11.5</td>\n",
       "      <td>70</td>\n",
       "      <td>1</td>\n",
       "      <td>buick skylark 320</td>\n",
       "    </tr>\n",
       "    <tr>\n",
       "      <th>2</th>\n",
       "      <td>18.0</td>\n",
       "      <td>8</td>\n",
       "      <td>318.0</td>\n",
       "      <td>150</td>\n",
       "      <td>3436</td>\n",
       "      <td>11.0</td>\n",
       "      <td>70</td>\n",
       "      <td>1</td>\n",
       "      <td>plymouth satellite</td>\n",
       "    </tr>\n",
       "    <tr>\n",
       "      <th>3</th>\n",
       "      <td>16.0</td>\n",
       "      <td>8</td>\n",
       "      <td>304.0</td>\n",
       "      <td>150</td>\n",
       "      <td>3433</td>\n",
       "      <td>12.0</td>\n",
       "      <td>70</td>\n",
       "      <td>1</td>\n",
       "      <td>amc rebel sst</td>\n",
       "    </tr>\n",
       "    <tr>\n",
       "      <th>4</th>\n",
       "      <td>17.0</td>\n",
       "      <td>8</td>\n",
       "      <td>302.0</td>\n",
       "      <td>140</td>\n",
       "      <td>3449</td>\n",
       "      <td>10.5</td>\n",
       "      <td>70</td>\n",
       "      <td>1</td>\n",
       "      <td>ford torino</td>\n",
       "    </tr>\n",
       "  </tbody>\n",
       "</table>\n",
       "</div>"
      ],
      "text/plain": [
       "    mpg  cylinders  displacement horsepower  weight  acceleration  model year  \\\n",
       "0  18.0          8         307.0        130    3504          12.0          70   \n",
       "1  15.0          8         350.0        165    3693          11.5          70   \n",
       "2  18.0          8         318.0        150    3436          11.0          70   \n",
       "3  16.0          8         304.0        150    3433          12.0          70   \n",
       "4  17.0          8         302.0        140    3449          10.5          70   \n",
       "\n",
       "   origin                   car name  \n",
       "0       1  chevrolet chevelle malibu  \n",
       "1       1          buick skylark 320  \n",
       "2       1         plymouth satellite  \n",
       "3       1              amc rebel sst  \n",
       "4       1                ford torino  "
      ]
     },
     "execution_count": 109,
     "metadata": {},
     "output_type": "execute_result"
    }
   ],
   "source": [
    "df.head()"
   ]
  },
  {
   "cell_type": "markdown",
   "id": "eb1f5724",
   "metadata": {},
   "source": [
    "Let us keep the 'mpg' variable as the response(dependent) variable and all other variables except 'car name' as dependent variables. The variable 'mpg' is a numerical variable. Since, we have the 'mpg' variable values for the instances in the data, it is a supervised problem and moreover a linear regression problem. "
   ]
  },
  {
   "cell_type": "code",
   "execution_count": 110,
   "id": "1264c477",
   "metadata": {},
   "outputs": [
    {
     "name": "stdout",
     "output_type": "stream",
     "text": [
      "<class 'pandas.core.frame.DataFrame'>\n",
      "RangeIndex: 398 entries, 0 to 397\n",
      "Data columns (total 9 columns):\n",
      " #   Column        Non-Null Count  Dtype  \n",
      "---  ------        --------------  -----  \n",
      " 0   mpg           398 non-null    float64\n",
      " 1   cylinders     398 non-null    int64  \n",
      " 2   displacement  398 non-null    float64\n",
      " 3   horsepower    398 non-null    object \n",
      " 4   weight        398 non-null    int64  \n",
      " 5   acceleration  398 non-null    float64\n",
      " 6   model year    398 non-null    int64  \n",
      " 7   origin        398 non-null    int64  \n",
      " 8   car name      398 non-null    object \n",
      "dtypes: float64(3), int64(4), object(2)\n",
      "memory usage: 28.1+ KB\n"
     ]
    }
   ],
   "source": [
    "df.info()"
   ]
  },
  {
   "cell_type": "markdown",
   "id": "c7352dfd",
   "metadata": {},
   "source": [
    "Looks like all the data types looks consistent except for horsepower and there are no missing values. Let's take a deeper look."
   ]
  },
  {
   "cell_type": "code",
   "execution_count": 111,
   "id": "0dae6552",
   "metadata": {},
   "outputs": [],
   "source": [
    "#converting 'horsepower' to float data type\n",
    "df['horsepower'] = pd.to_numeric(df['horsepower'], errors='coerce')\n",
    "#dropping rows with values 'na'\n",
    "df = df.dropna(subset=['horsepower'])\n",
    "df.reset_index(drop=True, inplace=True)"
   ]
  },
  {
   "cell_type": "code",
   "execution_count": 112,
   "id": "d9a5e252",
   "metadata": {},
   "outputs": [
    {
     "data": {
      "text/html": [
       "<div>\n",
       "<style scoped>\n",
       "    .dataframe tbody tr th:only-of-type {\n",
       "        vertical-align: middle;\n",
       "    }\n",
       "\n",
       "    .dataframe tbody tr th {\n",
       "        vertical-align: top;\n",
       "    }\n",
       "\n",
       "    .dataframe thead th {\n",
       "        text-align: right;\n",
       "    }\n",
       "</style>\n",
       "<table border=\"1\" class=\"dataframe\">\n",
       "  <thead>\n",
       "    <tr style=\"text-align: right;\">\n",
       "      <th></th>\n",
       "      <th>mpg</th>\n",
       "      <th>cylinders</th>\n",
       "      <th>displacement</th>\n",
       "      <th>horsepower</th>\n",
       "      <th>weight</th>\n",
       "      <th>acceleration</th>\n",
       "      <th>model year</th>\n",
       "      <th>origin</th>\n",
       "    </tr>\n",
       "  </thead>\n",
       "  <tbody>\n",
       "    <tr>\n",
       "      <th>count</th>\n",
       "      <td>392.000000</td>\n",
       "      <td>392.000000</td>\n",
       "      <td>392.000000</td>\n",
       "      <td>392.000000</td>\n",
       "      <td>392.000000</td>\n",
       "      <td>392.000000</td>\n",
       "      <td>392.000000</td>\n",
       "      <td>392.000000</td>\n",
       "    </tr>\n",
       "    <tr>\n",
       "      <th>mean</th>\n",
       "      <td>23.445918</td>\n",
       "      <td>5.471939</td>\n",
       "      <td>194.411990</td>\n",
       "      <td>104.469388</td>\n",
       "      <td>2977.584184</td>\n",
       "      <td>15.541327</td>\n",
       "      <td>75.979592</td>\n",
       "      <td>1.576531</td>\n",
       "    </tr>\n",
       "    <tr>\n",
       "      <th>std</th>\n",
       "      <td>7.805007</td>\n",
       "      <td>1.705783</td>\n",
       "      <td>104.644004</td>\n",
       "      <td>38.491160</td>\n",
       "      <td>849.402560</td>\n",
       "      <td>2.758864</td>\n",
       "      <td>3.683737</td>\n",
       "      <td>0.805518</td>\n",
       "    </tr>\n",
       "    <tr>\n",
       "      <th>min</th>\n",
       "      <td>9.000000</td>\n",
       "      <td>3.000000</td>\n",
       "      <td>68.000000</td>\n",
       "      <td>46.000000</td>\n",
       "      <td>1613.000000</td>\n",
       "      <td>8.000000</td>\n",
       "      <td>70.000000</td>\n",
       "      <td>1.000000</td>\n",
       "    </tr>\n",
       "    <tr>\n",
       "      <th>25%</th>\n",
       "      <td>17.000000</td>\n",
       "      <td>4.000000</td>\n",
       "      <td>105.000000</td>\n",
       "      <td>75.000000</td>\n",
       "      <td>2225.250000</td>\n",
       "      <td>13.775000</td>\n",
       "      <td>73.000000</td>\n",
       "      <td>1.000000</td>\n",
       "    </tr>\n",
       "    <tr>\n",
       "      <th>50%</th>\n",
       "      <td>22.750000</td>\n",
       "      <td>4.000000</td>\n",
       "      <td>151.000000</td>\n",
       "      <td>93.500000</td>\n",
       "      <td>2803.500000</td>\n",
       "      <td>15.500000</td>\n",
       "      <td>76.000000</td>\n",
       "      <td>1.000000</td>\n",
       "    </tr>\n",
       "    <tr>\n",
       "      <th>75%</th>\n",
       "      <td>29.000000</td>\n",
       "      <td>8.000000</td>\n",
       "      <td>275.750000</td>\n",
       "      <td>126.000000</td>\n",
       "      <td>3614.750000</td>\n",
       "      <td>17.025000</td>\n",
       "      <td>79.000000</td>\n",
       "      <td>2.000000</td>\n",
       "    </tr>\n",
       "    <tr>\n",
       "      <th>max</th>\n",
       "      <td>46.600000</td>\n",
       "      <td>8.000000</td>\n",
       "      <td>455.000000</td>\n",
       "      <td>230.000000</td>\n",
       "      <td>5140.000000</td>\n",
       "      <td>24.800000</td>\n",
       "      <td>82.000000</td>\n",
       "      <td>3.000000</td>\n",
       "    </tr>\n",
       "  </tbody>\n",
       "</table>\n",
       "</div>"
      ],
      "text/plain": [
       "              mpg   cylinders  displacement  horsepower       weight  \\\n",
       "count  392.000000  392.000000    392.000000  392.000000   392.000000   \n",
       "mean    23.445918    5.471939    194.411990  104.469388  2977.584184   \n",
       "std      7.805007    1.705783    104.644004   38.491160   849.402560   \n",
       "min      9.000000    3.000000     68.000000   46.000000  1613.000000   \n",
       "25%     17.000000    4.000000    105.000000   75.000000  2225.250000   \n",
       "50%     22.750000    4.000000    151.000000   93.500000  2803.500000   \n",
       "75%     29.000000    8.000000    275.750000  126.000000  3614.750000   \n",
       "max     46.600000    8.000000    455.000000  230.000000  5140.000000   \n",
       "\n",
       "       acceleration  model year      origin  \n",
       "count    392.000000  392.000000  392.000000  \n",
       "mean      15.541327   75.979592    1.576531  \n",
       "std        2.758864    3.683737    0.805518  \n",
       "min        8.000000   70.000000    1.000000  \n",
       "25%       13.775000   73.000000    1.000000  \n",
       "50%       15.500000   76.000000    1.000000  \n",
       "75%       17.025000   79.000000    2.000000  \n",
       "max       24.800000   82.000000    3.000000  "
      ]
     },
     "execution_count": 112,
     "metadata": {},
     "output_type": "execute_result"
    }
   ],
   "source": [
    "df.describe()"
   ]
  },
  {
   "cell_type": "markdown",
   "id": "fc7bf75d",
   "metadata": {},
   "source": [
    "The data range for the weight attribute is in thousands whereas for the other attributes its in units and tens. Let's perform a L2 normalization before building a linear regression model."
   ]
  },
  {
   "cell_type": "markdown",
   "id": "1ecb47b6",
   "metadata": {},
   "source": [
    "Since the data has no missing values and the data distribution is fine, we could dive into correlation analysis"
   ]
  },
  {
   "cell_type": "code",
   "execution_count": 113,
   "id": "563c5dca",
   "metadata": {},
   "outputs": [
    {
     "data": {
      "text/plain": [
       "array([[<AxesSubplot:title={'center':'mpg'}>,\n",
       "        <AxesSubplot:title={'center':'cylinders'}>,\n",
       "        <AxesSubplot:title={'center':'displacement'}>],\n",
       "       [<AxesSubplot:title={'center':'horsepower'}>,\n",
       "        <AxesSubplot:title={'center':'weight'}>,\n",
       "        <AxesSubplot:title={'center':'acceleration'}>],\n",
       "       [<AxesSubplot:title={'center':'model year'}>,\n",
       "        <AxesSubplot:title={'center':'origin'}>, <AxesSubplot:>]],\n",
       "      dtype=object)"
      ]
     },
     "execution_count": 113,
     "metadata": {},
     "output_type": "execute_result"
    },
    {
     "data": {
      "image/png": "[encoded data removed]",
      "text/plain": [
       "<Figure size 720x720 with 9 Axes>"
      ]
     },
     "metadata": {
      "needs_background": "light"
     },
     "output_type": "display_data"
    }
   ],
   "source": [
    "df.hist(figsize=(10,10))"
   ]
  },
  {
   "cell_type": "code",
   "execution_count": 114,
   "id": "fe5cc825",
   "metadata": {},
   "outputs": [
    {
     "data": {
      "text/html": [
       "<div>\n",
       "<style scoped>\n",
       "    .dataframe tbody tr th:only-of-type {\n",
       "        vertical-align: middle;\n",
       "    }\n",
       "\n",
       "    .dataframe tbody tr th {\n",
       "        vertical-align: top;\n",
       "    }\n",
       "\n",
       "    .dataframe thead th {\n",
       "        text-align: right;\n",
       "    }\n",
       "</style>\n",
       "<table border=\"1\" class=\"dataframe\">\n",
       "  <thead>\n",
       "    <tr style=\"text-align: right;\">\n",
       "      <th></th>\n",
       "      <th>mpg</th>\n",
       "      <th>cylinders</th>\n",
       "      <th>displacement</th>\n",
       "      <th>horsepower</th>\n",
       "      <th>weight</th>\n",
       "      <th>acceleration</th>\n",
       "      <th>model year</th>\n",
       "      <th>origin</th>\n",
       "    </tr>\n",
       "  </thead>\n",
       "  <tbody>\n",
       "    <tr>\n",
       "      <th>mpg</th>\n",
       "      <td>1.000000</td>\n",
       "      <td>-0.777618</td>\n",
       "      <td>-0.805127</td>\n",
       "      <td>-0.778427</td>\n",
       "      <td>-0.832244</td>\n",
       "      <td>0.423329</td>\n",
       "      <td>0.580541</td>\n",
       "      <td>0.565209</td>\n",
       "    </tr>\n",
       "    <tr>\n",
       "      <th>cylinders</th>\n",
       "      <td>-0.777618</td>\n",
       "      <td>1.000000</td>\n",
       "      <td>0.950823</td>\n",
       "      <td>0.842983</td>\n",
       "      <td>0.897527</td>\n",
       "      <td>-0.504683</td>\n",
       "      <td>-0.345647</td>\n",
       "      <td>-0.568932</td>\n",
       "    </tr>\n",
       "    <tr>\n",
       "      <th>displacement</th>\n",
       "      <td>-0.805127</td>\n",
       "      <td>0.950823</td>\n",
       "      <td>1.000000</td>\n",
       "      <td>0.897257</td>\n",
       "      <td>0.932994</td>\n",
       "      <td>-0.543800</td>\n",
       "      <td>-0.369855</td>\n",
       "      <td>-0.614535</td>\n",
       "    </tr>\n",
       "    <tr>\n",
       "      <th>horsepower</th>\n",
       "      <td>-0.778427</td>\n",
       "      <td>0.842983</td>\n",
       "      <td>0.897257</td>\n",
       "      <td>1.000000</td>\n",
       "      <td>0.864538</td>\n",
       "      <td>-0.689196</td>\n",
       "      <td>-0.416361</td>\n",
       "      <td>-0.455171</td>\n",
       "    </tr>\n",
       "    <tr>\n",
       "      <th>weight</th>\n",
       "      <td>-0.832244</td>\n",
       "      <td>0.897527</td>\n",
       "      <td>0.932994</td>\n",
       "      <td>0.864538</td>\n",
       "      <td>1.000000</td>\n",
       "      <td>-0.416839</td>\n",
       "      <td>-0.309120</td>\n",
       "      <td>-0.585005</td>\n",
       "    </tr>\n",
       "    <tr>\n",
       "      <th>acceleration</th>\n",
       "      <td>0.423329</td>\n",
       "      <td>-0.504683</td>\n",
       "      <td>-0.543800</td>\n",
       "      <td>-0.689196</td>\n",
       "      <td>-0.416839</td>\n",
       "      <td>1.000000</td>\n",
       "      <td>0.290316</td>\n",
       "      <td>0.212746</td>\n",
       "    </tr>\n",
       "    <tr>\n",
       "      <th>model year</th>\n",
       "      <td>0.580541</td>\n",
       "      <td>-0.345647</td>\n",
       "      <td>-0.369855</td>\n",
       "      <td>-0.416361</td>\n",
       "      <td>-0.309120</td>\n",
       "      <td>0.290316</td>\n",
       "      <td>1.000000</td>\n",
       "      <td>0.181528</td>\n",
       "    </tr>\n",
       "    <tr>\n",
       "      <th>origin</th>\n",
       "      <td>0.565209</td>\n",
       "      <td>-0.568932</td>\n",
       "      <td>-0.614535</td>\n",
       "      <td>-0.455171</td>\n",
       "      <td>-0.585005</td>\n",
       "      <td>0.212746</td>\n",
       "      <td>0.181528</td>\n",
       "      <td>1.000000</td>\n",
       "    </tr>\n",
       "  </tbody>\n",
       "</table>\n",
       "</div>"
      ],
      "text/plain": [
       "                   mpg  cylinders  displacement  horsepower    weight  \\\n",
       "mpg           1.000000  -0.777618     -0.805127   -0.778427 -0.832244   \n",
       "cylinders    -0.777618   1.000000      0.950823    0.842983  0.897527   \n",
       "displacement -0.805127   0.950823      1.000000    0.897257  0.932994   \n",
       "horsepower   -0.778427   0.842983      0.897257    1.000000  0.864538   \n",
       "weight       -0.832244   0.897527      0.932994    0.864538  1.000000   \n",
       "acceleration  0.423329  -0.504683     -0.543800   -0.689196 -0.416839   \n",
       "model year    0.580541  -0.345647     -0.369855   -0.416361 -0.309120   \n",
       "origin        0.565209  -0.568932     -0.614535   -0.455171 -0.585005   \n",
       "\n",
       "              acceleration  model year    origin  \n",
       "mpg               0.423329    0.580541  0.565209  \n",
       "cylinders        -0.504683   -0.345647 -0.568932  \n",
       "displacement     -0.543800   -0.369855 -0.614535  \n",
       "horsepower       -0.689196   -0.416361 -0.455171  \n",
       "weight           -0.416839   -0.309120 -0.585005  \n",
       "acceleration      1.000000    0.290316  0.212746  \n",
       "model year        0.290316    1.000000  0.181528  \n",
       "origin            0.212746    0.181528  1.000000  "
      ]
     },
     "execution_count": 114,
     "metadata": {},
     "output_type": "execute_result"
    }
   ],
   "source": [
    "df.corr()"
   ]
  },
  {
   "cell_type": "code",
   "execution_count": 115,
   "id": "cab14958",
   "metadata": {},
   "outputs": [],
   "source": [
    "#since we are not using the 'car name' attribute, let's delete this column\n",
    "df.drop('car name',axis=1, inplace=True)"
   ]
  },
  {
   "cell_type": "markdown",
   "id": "749d0c92",
   "metadata": {},
   "source": [
    "# L2 Normalization"
   ]
  },
  {
   "cell_type": "code",
   "execution_count": 116,
   "id": "ff0e6bf8",
   "metadata": {},
   "outputs": [],
   "source": [
    "# defining predictor and response variables\n",
    "X = df.drop(['mpg'], axis=1)\n",
    "y = df['mpg'].copy()"
   ]
  },
  {
   "cell_type": "code",
   "execution_count": 117,
   "id": "e44e0158",
   "metadata": {},
   "outputs": [
    {
     "name": "stdout",
     "output_type": "stream",
     "text": [
      "<class 'pandas.core.frame.DataFrame'>\n",
      "RangeIndex: 392 entries, 0 to 391\n",
      "Data columns (total 7 columns):\n",
      " #   Column        Non-Null Count  Dtype  \n",
      "---  ------        --------------  -----  \n",
      " 0   cylinders     392 non-null    int64  \n",
      " 1   displacement  392 non-null    float64\n",
      " 2   horsepower    392 non-null    float64\n",
      " 3   weight        392 non-null    int64  \n",
      " 4   acceleration  392 non-null    float64\n",
      " 5   model year    392 non-null    int64  \n",
      " 6   origin        392 non-null    int64  \n",
      "dtypes: float64(3), int64(4)\n",
      "memory usage: 21.6 KB\n"
     ]
    }
   ],
   "source": [
    "X.info()"
   ]
  },
  {
   "cell_type": "code",
   "execution_count": 118,
   "id": "aaee1a60",
   "metadata": {},
   "outputs": [
    {
     "data": {
      "text/plain": [
       "0      18.0\n",
       "1      15.0\n",
       "2      18.0\n",
       "3      16.0\n",
       "4      17.0\n",
       "       ... \n",
       "387    27.0\n",
       "388    44.0\n",
       "389    32.0\n",
       "390    28.0\n",
       "391    31.0\n",
       "Name: mpg, Length: 392, dtype: float64"
      ]
     },
     "execution_count": 118,
     "metadata": {},
     "output_type": "execute_result"
    }
   ],
   "source": [
    "y"
   ]
  },
  {
   "cell_type": "code",
   "execution_count": 119,
   "id": "5311ca94",
   "metadata": {},
   "outputs": [],
   "source": [
    "# split train and test data\n",
    "from sklearn.model_selection import train_test_split\n",
    "X_train, X_test, y_train, y_test = train_test_split(X, y, test_size=0.33, random_state=42)"
   ]
  },
  {
   "cell_type": "code",
   "execution_count": 120,
   "id": "1a170f1d",
   "metadata": {},
   "outputs": [
    {
     "data": {
      "text/plain": [
       "78     26.0\n",
       "274    21.6\n",
       "246    36.1\n",
       "55     26.0\n",
       "387    27.0\n",
       "       ... \n",
       "232    24.5\n",
       "193    29.0\n",
       "238    30.5\n",
       "152    15.0\n",
       "346    34.7\n",
       "Name: mpg, Length: 130, dtype: float64"
      ]
     },
     "execution_count": 120,
     "metadata": {},
     "output_type": "execute_result"
    }
   ],
   "source": [
    "y_test"
   ]
  },
  {
   "cell_type": "code",
   "execution_count": 121,
   "id": "6cf71697",
   "metadata": {},
   "outputs": [],
   "source": [
    "from sklearn.preprocessing import Normalizer"
   ]
  },
  {
   "cell_type": "code",
   "execution_count": 122,
   "id": "9caf4607",
   "metadata": {},
   "outputs": [],
   "source": [
    "X_train_data, X_test_data = X_train.values, X_test.values"
   ]
  },
  {
   "cell_type": "code",
   "execution_count": 123,
   "id": "d3fe59b1",
   "metadata": {},
   "outputs": [
    {
     "data": {
      "text/plain": [
       "array([[0.00151218, 0.04234117, 0.03326806, ..., 0.00703166, 0.03099979,\n",
       "        0.00037805],\n",
       "       [0.00162006, 0.04333661, 0.0348313 , ..., 0.00627773, 0.03078115,\n",
       "        0.00081003],\n",
       "       [0.00139193, 0.04210588, 0.03897403, ..., 0.00539373, 0.02540272,\n",
       "        0.00069596],\n",
       "       ...,\n",
       "       [0.00139793, 0.05277185, 0.02970601, ..., 0.00615089, 0.02725963,\n",
       "        0.00034948],\n",
       "       [0.00167759, 0.04110095, 0.02726083, ..., 0.00868153, 0.03397119,\n",
       "        0.0004194 ],\n",
       "       [0.00159496, 0.07974824, 0.02990559, ..., 0.00279119, 0.01455405,\n",
       "        0.00019937]])"
      ]
     },
     "execution_count": 123,
     "metadata": {},
     "output_type": "execute_result"
    }
   ],
   "source": [
    "X_train_normalizer = Normalizer(norm='l2').fit(X_train_data)\n",
    "X_train_normalized = X_train_normalizer.transform(X_train_data)\n",
    "X_train_normalized"
   ]
  },
  {
   "cell_type": "code",
   "execution_count": 124,
   "id": "fd978058",
   "metadata": {},
   "outputs": [
    {
     "data": {
      "text/plain": [
       "array([[1.82361062e-03, 4.37666549e-02, 3.14572832e-02, 9.97970911e-01,\n",
       "        8.20624779e-03, 3.28249911e-02, 9.11805310e-04],\n",
       "       [1.42800312e-03, 4.31970943e-02, 4.10550897e-02, 9.97817179e-01,\n",
       "        5.60491224e-03, 2.78460608e-02, 7.14001560e-04],\n",
       "       [2.21598692e-03, 5.04137024e-02, 3.32398038e-02, 9.97194113e-01,\n",
       "        9.08554636e-03, 4.32117449e-02, 1.66199019e-03],\n",
       "       [2.04105961e-03, 4.64341062e-02, 3.57185432e-02, 9.97567885e-01,\n",
       "        1.04604305e-02, 3.62288081e-02, 5.10264903e-04],\n",
       "       [1.43057268e-03, 5.00700437e-02, 3.07573126e-02, 9.97824443e-01,\n",
       "        5.57923344e-03, 2.93267399e-02, 3.57643169e-04],\n",
       "       [1.85194534e-03, 4.49096745e-02, 3.47239751e-02, 9.97735552e-01,\n",
       "        7.59297590e-03, 3.51869615e-02, 1.38895901e-03],\n",
       "       [1.67841199e-03, 8.39205996e-02, 3.56662548e-02, 9.95717914e-01,\n",
       "        2.51761799e-03, 1.48959064e-02, 2.09801499e-04],\n",
       "       [1.76234639e-03, 4.27369001e-02, 3.30439949e-02, 9.97928646e-01,\n",
       "        8.01867610e-03, 3.39251681e-02, 1.32175980e-03],\n",
       "       [1.83260458e-03, 6.87226716e-02, 2.90162391e-02, 9.96936890e-01,\n",
       "        4.88694554e-03, 2.29075572e-02, 3.05434096e-04],\n",
       "       [2.13856559e-03, 3.63556150e-02, 2.61974285e-02, 9.98175489e-01,\n",
       "        1.04255073e-02, 3.90288220e-02, 1.06928279e-03],\n",
       "       [2.06450841e-03, 1.00644785e-01, 4.90320748e-02, 9.93544673e-01,\n",
       "        2.19354019e-03, 1.80644486e-02, 2.58063552e-04],\n",
       "       [2.04278343e-03, 5.31123692e-02, 3.67701018e-02, 9.97559242e-01,\n",
       "        5.27719053e-03, 2.58752568e-02, 1.02139172e-03],\n",
       "       [1.82752013e-03, 7.99540057e-02, 3.54082025e-02, 9.95998470e-01,\n",
       "        3.40375624e-03, 1.80467613e-02, 2.28440016e-04],\n",
       "       [1.83838963e-03, 4.45809486e-02, 3.44698056e-02, 9.97785973e-01,\n",
       "        7.35355853e-03, 3.44698056e-02, 1.37879222e-03],\n",
       "       [1.75571254e-03, 4.76968573e-02, 3.89182946e-02, 9.97829960e-01,\n",
       "        4.62337635e-03, 2.28242630e-02, 5.85237513e-04],\n",
       "       [1.53241654e-03, 4.29076632e-02, 3.37131640e-02, 9.97986274e-01,\n",
       "        7.50884107e-03, 3.14145392e-02, 3.83104136e-04],\n",
       "       [1.92882992e-03, 6.36513874e-02, 3.05398071e-02, 9.97205069e-01,\n",
       "        5.30428228e-03, 2.37889024e-02, 3.21471654e-04],\n",
       "       [1.69841699e-03, 4.58572589e-02, 3.18453186e-02, 9.97819984e-01,\n",
       "        7.13335138e-03, 3.43929441e-02, 1.27381275e-03],\n",
       "       [1.49524363e-03, 4.52311197e-02, 2.99048725e-02, 9.98075120e-01,\n",
       "        5.60716360e-03, 2.95310616e-02, 3.73810906e-04],\n",
       "       [1.59626578e-03, 4.86861064e-02, 3.51178473e-02, 9.97666115e-01,\n",
       "        6.02590334e-03, 3.19253157e-02, 7.98132892e-04],\n",
       "       [2.11088469e-03, 6.96591949e-02, 3.34223410e-02, 9.96689389e-01,\n",
       "        5.45311879e-03, 2.46269881e-02, 3.51814116e-04],\n",
       "       [1.87391925e-03, 4.54425419e-02, 2.43609503e-02, 9.97862002e-01,\n",
       "        1.15246034e-02, 3.84153447e-02, 9.36959626e-04],\n",
       "       [2.01008274e-03, 4.57293823e-02, 3.41714065e-02, 9.97503558e-01,\n",
       "        8.04033095e-03, 4.07041754e-02, 1.50756205e-03],\n",
       "       [2.27237206e-03, 8.72022778e-02, 3.69260460e-02, 9.95298962e-01,\n",
       "        3.40855809e-03, 1.98832555e-02, 2.84046507e-04],\n",
       "       [2.03335755e-03, 4.01588117e-02, 3.40587390e-02, 9.97870219e-01,\n",
       "        7.87926052e-03, 3.76171147e-02, 1.01667878e-03],\n",
       "       [1.76200884e-03, 4.31692165e-02, 3.96451988e-02, 9.97737504e-01,\n",
       "        6.82778424e-03, 3.21566613e-02, 8.81004418e-04],\n",
       "       [1.34065285e-03, 4.02195856e-02, 2.91591995e-02, 9.98451212e-01,\n",
       "        6.53568266e-03, 2.41317513e-02, 6.70326426e-04],\n",
       "       [1.73977448e-03, 6.52415431e-02, 3.04460534e-02, 9.97180741e-01,\n",
       "        4.49441741e-03, 2.05873314e-02, 2.89962414e-04],\n",
       "       [2.04662760e-03, 4.96307193e-02, 2.35362174e-02, 9.97730955e-01,\n",
       "        1.07447949e-02, 3.73509537e-02, 1.02331380e-03],\n",
       "       [1.58972341e-03, 4.80891333e-02, 3.02047449e-02, 9.97948873e-01,\n",
       "        7.15375536e-03, 2.86150215e-02, 7.94861707e-04],\n",
       "       [1.79501237e-03, 7.85317911e-02, 3.25345992e-02, 9.96231865e-01,\n",
       "        3.14127164e-03, 1.68282410e-02, 2.24376546e-04],\n",
       "       [1.86299104e-03, 7.20356537e-02, 2.79448657e-02, 9.96700209e-01,\n",
       "        5.34057433e-03, 2.42188836e-02, 3.10498507e-04],\n",
       "       [2.21120474e-03, 7.37989581e-02, 3.45500740e-02, 9.96424134e-01,\n",
       "        4.14600888e-03, 2.18356468e-02, 2.76400592e-04],\n",
       "       [1.51510566e-03, 4.54531698e-02, 2.80294547e-02, 9.98075853e-01,\n",
       "        6.93160839e-03, 3.06808896e-02, 1.13632924e-03],\n",
       "       [1.78371869e-03, 8.91859345e-02, 3.34447254e-02, 9.95315029e-01,\n",
       "        2.67557804e-03, 1.62764330e-02, 2.22964836e-04],\n",
       "       [2.00004839e-03, 4.55011009e-02, 3.35008106e-02, 9.97524135e-01,\n",
       "        8.10019599e-03, 4.10009920e-02, 1.50003629e-03],\n",
       "       [1.72022546e-03, 6.49385111e-02, 3.01039455e-02, 9.97300710e-01,\n",
       "        3.44045092e-03, 1.59120855e-02, 2.15028182e-04],\n",
       "       [1.87703004e-03, 4.57526071e-02, 3.75406007e-02, 9.97641464e-01,\n",
       "        7.97737765e-03, 3.37865406e-02, 4.69257509e-04],\n",
       "       [1.85721632e-03, 7.01099162e-02, 3.25012856e-02, 9.96860861e-01,\n",
       "        3.71443265e-03, 1.67149469e-02, 2.32152040e-04],\n",
       "       [1.72615911e-03, 7.76771600e-02, 4.63905261e-02, 9.95778037e-01,\n",
       "        3.02077844e-03, 1.51038922e-02, 2.15769889e-04],\n",
       "       [1.94543014e-03, 7.46558817e-02, 3.16132398e-02, 9.96546591e-01,\n",
       "        3.40450275e-03, 1.75088713e-02, 2.43178768e-04],\n",
       "       [1.89339163e-03, 4.26013118e-02, 3.55010931e-02, 9.97817391e-01,\n",
       "        7.33689258e-03, 3.50277452e-02, 9.46695817e-04],\n",
       "       [2.01417961e-03, 5.28722148e-02, 3.72623228e-02, 9.97018907e-01,\n",
       "        7.70423701e-03, 4.12906820e-02, 1.00708981e-03],\n",
       "       [1.73565616e-03, 4.20896619e-02, 3.38452951e-02, 9.98002292e-01,\n",
       "        6.29175358e-03, 3.21096390e-02, 8.67828080e-04],\n",
       "       [1.71189581e-03, 7.51094287e-02, 3.16700725e-02, 9.96537349e-01,\n",
       "        2.88882418e-03, 1.60490232e-02, 2.13986976e-04],\n",
       "       [1.68037694e-03, 9.24207315e-02, 4.51601302e-02, 9.94573100e-01,\n",
       "        2.31051829e-03, 1.53334395e-02, 2.10047117e-04],\n",
       "       [1.82158672e-03, 7.58994466e-02, 3.03597786e-02, 9.96407934e-01,\n",
       "        4.55396679e-03, 2.15554428e-02, 3.03597786e-04],\n",
       "       [1.87390755e-03, 4.26313967e-02, 3.23249052e-02, 9.97855768e-01,\n",
       "        6.88661023e-03, 3.70096740e-02, 9.36953773e-04],\n",
       "       [1.66158135e-03, 5.81553472e-02, 2.99084643e-02, 9.97364204e-01,\n",
       "        8.10020907e-03, 3.03238596e-02, 4.15395337e-04],\n",
       "       [2.05984075e-03, 4.63464169e-02, 3.60472132e-02, 9.97477884e-01,\n",
       "        7.31243467e-03, 3.91369743e-02, 1.02992038e-03],\n",
       "       [1.91743372e-03, 8.41274043e-02, 3.66709198e-02, 9.95627457e-01,\n",
       "        3.23566940e-03, 1.70172242e-02, 2.39679215e-04],\n",
       "       [1.75133510e-03, 4.94752165e-02, 4.15942086e-02, 9.97385338e-01,\n",
       "        6.78642350e-03, 3.15240317e-02, 1.31350132e-03],\n",
       "       [1.76112466e-03, 6.16393629e-02, 3.96253047e-02, 9.96796555e-01,\n",
       "        6.82435804e-03, 3.12599626e-02, 4.40281164e-04],\n",
       "       [1.84610296e-03, 5.53830888e-02, 4.06142651e-02, 9.96895598e-01,\n",
       "        6.69212323e-03, 3.78451107e-02, 1.38457722e-03],\n",
       "       [2.10681091e-03, 8.14633553e-02, 3.93271371e-02, 9.95468157e-01,\n",
       "        5.16168674e-03, 2.87930825e-02, 3.51135152e-04],\n",
       "       [1.64671657e-03, 7.08088125e-02, 3.01898038e-02, 9.96812430e-01,\n",
       "        4.94014971e-03, 2.03095043e-02, 2.74452761e-04],\n",
       "       [2.47339737e-03, 8.10037639e-02, 3.40092138e-02, 9.95851616e-01,\n",
       "        4.17385806e-03, 2.31881003e-02, 3.09174671e-04],\n",
       "       [2.05062148e-03, 7.92906971e-02, 3.41770246e-02, 9.95918497e-01,\n",
       "        5.46832394e-03, 2.56327685e-02, 3.41770246e-04],\n",
       "       [1.68048059e-03, 4.36924954e-02, 3.99114140e-02, 9.97785351e-01,\n",
       "        7.35210259e-03, 2.94084103e-02, 8.40240296e-04],\n",
       "       [1.79045935e-03, 5.05804767e-02, 4.25234096e-02, 9.97285860e-01,\n",
       "        6.26660774e-03, 3.17806535e-02, 1.34284451e-03],\n",
       "       [1.60723061e-03, 9.14112409e-02, 4.52033609e-02, 9.94674843e-01,\n",
       "        2.20994209e-03, 1.46659793e-02, 2.00903826e-04],\n",
       "       [1.93797886e-03, 7.49351826e-02, 2.90696829e-02, 9.96444130e-01,\n",
       "        5.68473799e-03, 2.45477322e-02, 3.22996477e-04],\n",
       "       [2.21470100e-03, 6.38572121e-02, 4.24484358e-02, 9.96615449e-01,\n",
       "        4.76160715e-03, 2.91602298e-02, 3.69116833e-04],\n",
       "       [1.35055566e-03, 4.05166698e-02, 2.97122245e-02, 9.98398271e-01,\n",
       "        5.73986155e-03, 2.53229186e-02, 6.75277829e-04],\n",
       "       [1.58628600e-03, 5.31405810e-02, 3.76742925e-02, 9.97377322e-01,\n",
       "        5.86925820e-03, 3.09325770e-02, 1.18971450e-03],\n",
       "       [1.79704990e-03, 5.21144470e-02, 3.63902604e-02, 9.97362693e-01,\n",
       "        7.59253581e-03, 3.41439480e-02, 8.98524948e-04],\n",
       "       [1.46725210e-03, 5.13538236e-02, 3.22795462e-02, 9.97731429e-01,\n",
       "        5.64892059e-03, 2.86114160e-02, 3.66813025e-04],\n",
       "       [2.05988354e-03, 4.63473795e-02, 3.60479619e-02, 9.97498602e-01,\n",
       "        7.20959237e-03, 3.86228163e-02, 1.02994177e-03],\n",
       "       [2.36842816e-03, 7.69739152e-02, 3.25658872e-02, 9.96220094e-01,\n",
       "        4.58882956e-03, 2.30921745e-02, 2.96053520e-04],\n",
       "       [1.83182988e-03, 9.82318774e-02, 4.53377896e-02, 9.93996690e-01,\n",
       "        2.28978735e-03, 1.60285115e-02, 2.28978735e-04],\n",
       "       [1.65682016e-03, 5.79887055e-02, 2.98227628e-02, 9.97405734e-01,\n",
       "        7.86989574e-03, 2.94085578e-02, 4.14205039e-04],\n",
       "       [1.94207436e-03, 8.49657533e-02, 4.24828766e-02, 9.95313110e-01,\n",
       "        3.15587084e-03, 1.77214285e-02, 2.42759295e-04],\n",
       "       [2.12649211e-03, 5.17446415e-02, 3.43782892e-02, 9.97679217e-01,\n",
       "        5.13902261e-03, 2.72899821e-02, 1.06324606e-03],\n",
       "       [1.40953770e-03, 3.28892130e-02, 4.22861309e-02, 9.97952690e-01,\n",
       "        6.34291964e-03, 3.42987507e-02, 1.40953770e-03],\n",
       "       [1.72695313e-03, 6.47607424e-02, 2.44651693e-02, 9.97315432e-01,\n",
       "        4.77790366e-03, 2.33138673e-02, 2.87825522e-04],\n",
       "       [1.84421388e-03, 4.51832401e-02, 3.68842776e-02, 9.97719709e-01,\n",
       "        6.91580205e-03, 3.31958498e-02, 4.61053470e-04],\n",
       "       [1.95111436e-03, 8.53612531e-02, 3.53639477e-02, 9.95556101e-01,\n",
       "        3.17056083e-03, 1.78039185e-02, 2.43889295e-04],\n",
       "       [2.31854704e-03, 8.81047876e-02, 4.34727570e-02, 9.94946500e-01,\n",
       "        3.47782056e-03, 2.02872866e-02, 2.89818380e-04],\n",
       "       [1.87333837e-03, 4.54284555e-02, 4.12134442e-02, 9.97552683e-01,\n",
       "        6.79085160e-03, 3.27834215e-02, 1.40500378e-03],\n",
       "       [1.65309985e-03, 6.19912442e-02, 3.03068305e-02, 9.97370240e-01,\n",
       "        5.15216118e-03, 2.14902980e-02, 2.75516641e-04],\n",
       "       [1.55121943e-03, 5.42926800e-02, 3.56780469e-02, 9.97434092e-01,\n",
       "        5.77829237e-03, 2.94731691e-02, 3.87804857e-04],\n",
       "       [2.00571571e-03, 5.71628979e-02, 3.24257374e-02, 9.97509282e-01,\n",
       "        4.84714631e-03, 2.50714464e-02, 3.34285952e-04],\n",
       "       [1.92744337e-03, 7.66158741e-02, 3.61395632e-02, 9.96247293e-01,\n",
       "        3.25256069e-03, 1.73469904e-02, 2.40930422e-04],\n",
       "       [2.12779083e-03, 4.57475029e-02, 3.40446533e-02, 9.97401952e-01,\n",
       "        8.72394241e-03, 4.30877643e-02, 5.31947708e-04],\n",
       "       [1.83979192e-03, 9.19895962e-02, 4.36950582e-02, 9.94637509e-01,\n",
       "        2.80568268e-03, 1.77079973e-02, 2.29973990e-04],\n",
       "       [2.16217982e-03, 4.81085011e-02, 3.35137873e-02, 9.97305443e-01,\n",
       "        8.27033782e-03, 4.32435965e-02, 1.08108991e-03],\n",
       "       [2.03128389e-03, 6.12770640e-02, 3.72402046e-02, 9.97021843e-01,\n",
       "        5.55217597e-03, 2.77608798e-02, 3.38547315e-04],\n",
       "       [1.84261366e-03, 7.09406258e-02, 3.53167618e-02, 9.96546887e-01,\n",
       "        4.72937506e-03, 2.42610798e-02, 3.07102276e-04],\n",
       "       [1.96531991e-03, 6.38728971e-02, 2.70231488e-02, 9.97399855e-01,\n",
       "        4.66763479e-03, 1.89162041e-02, 2.45664989e-04],\n",
       "       [1.58255371e-03, 6.59397377e-02, 2.63758951e-02, 9.97272593e-01,\n",
       "        4.48390216e-03, 1.95181624e-02, 2.63758951e-04],\n",
       "       [1.38128256e-03, 4.83448896e-02, 3.03882163e-02, 9.97976651e-01,\n",
       "        5.97404708e-03, 2.72803306e-02, 3.45320640e-04],\n",
       "       [1.89553013e-03, 4.58086449e-02, 2.40100484e-02, 9.98312537e-01,\n",
       "        6.19206510e-03, 2.55896568e-02, 6.31843378e-04],\n",
       "       [2.00998783e-03, 4.87422049e-02, 3.36672962e-02, 9.97456462e-01,\n",
       "        8.24095011e-03, 3.86922658e-02, 1.50749087e-03],\n",
       "       [1.55027145e-03, 4.34076006e-02, 3.29432683e-02, 9.97987246e-01,\n",
       "        6.27859937e-03, 3.17805647e-02, 3.87567862e-04],\n",
       "       [1.69251959e-03, 6.51620042e-02, 2.96190928e-02, 9.97176125e-01,\n",
       "        5.41606269e-03, 2.20027547e-02, 2.82086598e-04],\n",
       "       [1.56806520e-03, 4.39058256e-02, 3.13613040e-02, 9.98334844e-01,\n",
       "        4.36444814e-03, 1.98621592e-02, 5.22688400e-04],\n",
       "       [1.36121461e-03, 4.11767419e-02, 3.81140090e-02, 9.98110611e-01,\n",
       "        4.93440295e-03, 2.45018629e-02, 6.80607304e-04],\n",
       "       [1.71247803e-03, 7.70615115e-02, 3.63901582e-02, 9.96234096e-01,\n",
       "        2.78277680e-03, 1.56263621e-02, 2.14059754e-04],\n",
       "       [1.55854638e-03, 5.22113039e-02, 3.70154766e-02, 9.97469686e-01,\n",
       "        5.53283966e-03, 3.03916545e-02, 1.16890979e-03],\n",
       "       [2.15536608e-03, 7.14863082e-02, 3.48450849e-02, 9.96497583e-01,\n",
       "        5.56802903e-03, 2.51459376e-02, 3.59227679e-04],\n",
       "       [1.71745948e-03, 9.20987646e-02, 4.46539465e-02, 9.94623721e-01,\n",
       "        2.36150679e-03, 1.54571353e-02, 2.14682435e-04],\n",
       "       [1.53211789e-03, 5.89865389e-02, 2.80888280e-02, 9.97664101e-01,\n",
       "        5.36241263e-03, 1.91514737e-02, 2.55352982e-04],\n",
       "       [1.84319046e-03, 1.01375475e-01, 4.95357435e-02, 9.93479656e-01,\n",
       "        1.95838986e-03, 1.61279165e-02, 2.30398807e-04],\n",
       "       [2.17439792e-03, 5.27291494e-02, 2.50055760e-02, 9.97505044e-01,\n",
       "        1.11437893e-02, 3.80519635e-02, 1.08719896e-03],\n",
       "       [1.81399698e-03, 4.76174207e-02, 3.17449471e-02, 9.97698339e-01,\n",
       "        5.98619003e-03, 3.58264403e-02, 4.53499245e-04],\n",
       "       [1.95117437e-03, 4.78037722e-02, 3.17065836e-02, 9.97537899e-01,\n",
       "        7.90225622e-03, 3.95112811e-02, 4.87793594e-04],\n",
       "       [2.26651407e-03, 4.58969098e-02, 3.39977110e-02, 9.97266189e-01,\n",
       "        9.12271912e-03, 4.58969098e-02, 1.69988555e-03],\n",
       "       [1.54607965e-03, 4.40632702e-02, 3.51733121e-02, 9.97994417e-01,\n",
       "        5.41127879e-03, 2.82159537e-02, 7.73039827e-04],\n",
       "       [1.35588350e-03, 4.10154758e-02, 3.32191457e-02, 9.98269224e-01,\n",
       "        4.91507767e-03, 2.54228156e-02, 6.77941748e-04],\n",
       "       [2.07986737e-03, 8.26747282e-02, 3.50977620e-02, 9.95736506e-01,\n",
       "        3.95174801e-03, 2.05386903e-02, 2.59983422e-04],\n",
       "       [2.03043318e-03, 4.61923549e-02, 3.40097558e-02, 9.97450300e-01,\n",
       "        7.96945024e-03, 4.16238802e-02, 1.52282489e-03],\n",
       "       [2.07249880e-03, 4.61130983e-02, 3.67868537e-02, 9.97390048e-01,\n",
       "        7.25374580e-03, 4.09318513e-02, 1.03624940e-03],\n",
       "       [1.79193391e-03, 5.46539843e-02, 3.85265791e-02, 9.97211223e-01,\n",
       "        7.39172739e-03, 3.22548104e-02, 4.47983478e-04],\n",
       "       [1.66612266e-03, 5.08167412e-02, 3.58216372e-02, 9.97590944e-01,\n",
       "        6.66449065e-03, 2.99902079e-02, 4.16530666e-04],\n",
       "       [1.97674306e-03, 4.24999757e-02, 3.21220747e-02, 9.97761058e-01,\n",
       "        8.10464653e-03, 3.95348611e-02, 1.48255729e-03],\n",
       "       [1.52618505e-03, 4.54040051e-02, 3.81546262e-02, 9.97743474e-01,\n",
       "        5.64688467e-03, 3.09052472e-02, 1.14463878e-03],\n",
       "       [2.13221371e-03, 8.47554951e-02, 3.73137400e-02, 9.95477278e-01,\n",
       "        3.51815263e-03, 2.07890837e-02, 2.66526714e-04],\n",
       "       [1.89295262e-03, 7.88730259e-02, 2.27154314e-02, 9.96324063e-01,\n",
       "        6.15209602e-03, 2.36619078e-02, 3.15492103e-04],\n",
       "       [1.67751129e-03, 4.52928049e-02, 3.94215154e-02, 9.97699841e-01,\n",
       "        6.91973408e-03, 3.06145811e-02, 1.25813347e-03],\n",
       "       [2.31025911e-03, 7.70086371e-02, 3.27286708e-02, 9.96106721e-01,\n",
       "        6.16069097e-03, 2.69530230e-02, 3.85043185e-04],\n",
       "       [1.63933999e-03, 4.87703648e-02, 3.77048199e-02, 9.97538387e-01,\n",
       "        6.14752498e-03, 3.27867999e-02, 1.22950500e-03],\n",
       "       [2.25736782e-03, 7.48693659e-02, 3.38605172e-02, 9.96251663e-01,\n",
       "        5.64341954e-03, 2.63359578e-02, 3.76227969e-04],\n",
       "       [1.79226708e-03, 7.46777950e-02, 2.98711180e-02, 9.96500497e-01,\n",
       "        5.07809006e-03, 2.21046273e-02, 2.98711180e-04],\n",
       "       [2.02525447e-03, 4.60745393e-02, 3.44293260e-02, 9.97437828e-01,\n",
       "        8.91111968e-03, 4.15177167e-02, 1.51894085e-03],\n",
       "       [1.48191290e-03, 4.26049960e-02, 3.51954315e-02, 9.98068341e-01,\n",
       "        5.55717339e-03, 2.77858670e-02, 7.40956452e-04],\n",
       "       [1.45629435e-03, 5.49751116e-02, 3.20384756e-02, 9.97561628e-01,\n",
       "        5.82517739e-03, 2.80336662e-02, 3.64073587e-04],\n",
       "       [1.96176510e-03, 4.16875084e-02, 2.55029463e-02, 9.98047996e-01,\n",
       "        1.08877963e-02, 3.72735369e-02, 4.90441276e-04],\n",
       "       [1.82237721e-03, 4.41926473e-02, 3.55363556e-02, 9.97751522e-01,\n",
       "        6.42387966e-03, 3.50807613e-02, 9.11188605e-04],\n",
       "       [1.74280140e-03, 7.26167248e-02, 2.09136167e-02, 9.96882398e-01,\n",
       "        6.09980488e-03, 2.17850174e-02, 2.90466899e-04],\n",
       "       [1.80187145e-03, 4.72991256e-02, 2.83794753e-02, 9.97786315e-01,\n",
       "        6.71197115e-03, 3.64878969e-02, 4.50467862e-04]])"
      ]
     },
     "execution_count": 124,
     "metadata": {},
     "output_type": "execute_result"
    }
   ],
   "source": [
    "X_test_normalizer = Normalizer(norm='l2').fit(X_test_data)\n",
    "X_test_normalized = X_test_normalizer.transform(X_test_data)\n",
    "X_test_normalized"
   ]
  },
  {
   "cell_type": "code",
   "execution_count": 125,
   "id": "4adeb80e",
   "metadata": {},
   "outputs": [],
   "source": [
    "from sklearn.linear_model import LinearRegression"
   ]
  },
  {
   "cell_type": "code",
   "execution_count": 126,
   "id": "cd50f2f5",
   "metadata": {},
   "outputs": [],
   "source": [
    "lin_reg = LinearRegression()"
   ]
  },
  {
   "cell_type": "code",
   "execution_count": 127,
   "id": "abb22218",
   "metadata": {},
   "outputs": [
    {
     "data": {
      "text/plain": [
       "LinearRegression()"
      ]
     },
     "execution_count": 127,
     "metadata": {},
     "output_type": "execute_result"
    }
   ],
   "source": [
    "lin_reg.fit(X_train_normalized, y_train)"
   ]
  },
  {
   "cell_type": "code",
   "execution_count": 128,
   "id": "600b6d54",
   "metadata": {},
   "outputs": [],
   "source": [
    "y_predicted = lin_reg.predict(X_test_normalized)"
   ]
  },
  {
   "cell_type": "code",
   "execution_count": 129,
   "id": "4dfbc525",
   "metadata": {},
   "outputs": [
    {
     "data": {
      "text/plain": [
       "array([28.29511338, 22.80519586, 38.00834974, 27.33381455, 27.500024  ,\n",
       "       30.6709349 , 13.0341785 , 29.63097332, 20.7950018 , 34.91303491,\n",
       "       12.98320306, 21.11457089, 15.08633095, 30.24795401, 18.14826687,\n",
       "       26.84940432, 20.55008951, 31.45595208, 28.12918708, 28.41553014,\n",
       "       19.99002653, 33.531284  , 36.40185212, 16.15714144, 33.03002267,\n",
       "       26.26788652, 22.23940196, 18.29699448, 33.02884765, 25.31889639,\n",
       "       15.08459634, 22.14226377, 17.80522443, 29.18137955, 15.28104849,\n",
       "       36.94151266, 14.50419793, 26.92163808, 14.00136902,  8.70704866,\n",
       "       15.46839712, 30.22416441, 35.67023385, 28.9315724 , 14.8603579 ,\n",
       "       11.07569359, 19.36715126, 34.11484717, 25.57999058, 34.26189624,\n",
       "       13.76881258, 24.96517162, 24.34223846, 32.2001038 , 23.21649776,\n",
       "       17.82195678, 19.25676759, 21.18932391, 22.63331111, 25.41021241,\n",
       "       10.50522534, 21.6566121 , 22.40032686, 24.17196492, 26.71902687,\n",
       "       28.33018767, 25.96583921, 33.78786212, 19.23328115, 12.03329105,\n",
       "       24.85289485, 12.63240857, 23.59425342, 30.09159535, 23.23152686,\n",
       "       27.71995487, 15.16074039, 14.27198589, 26.53240179, 18.76772187,\n",
       "       25.33331128, 21.70551757, 13.93335136, 37.50791177, 13.25660517,\n",
       "       38.59294241, 22.09150144, 20.18009419, 17.12537603, 18.93938769,\n",
       "       25.09288996, 24.78724003, 33.92868932, 28.80935417, 19.21973508,\n",
       "       18.37982945, 21.07809732, 12.89870489, 26.77677959, 19.88349673,\n",
       "       11.22802427, 17.06117634, 11.45746243, 32.53049155, 33.45172617,\n",
       "       35.33551738, 40.93296423, 25.2399207 , 23.85841272, 16.98901363,\n",
       "       37.53883636, 36.10694877, 25.28564804, 24.82050456, 35.96081488,\n",
       "       27.16479982, 16.97919995, 22.81223115, 24.83557422, 21.88086957,\n",
       "       28.57429789, 21.37430746, 19.58711308, 36.26376042, 24.77651672,\n",
       "       25.12711595, 32.20922499, 31.27153826, 21.57842033, 34.68815088])"
      ]
     },
     "execution_count": 129,
     "metadata": {},
     "output_type": "execute_result"
    }
   ],
   "source": [
    "y_predicted"
   ]
  },
  {
   "cell_type": "code",
   "execution_count": 130,
   "id": "02818ee9",
   "metadata": {},
   "outputs": [],
   "source": [
    "from sklearn.metrics import mean_squared_error"
   ]
  },
  {
   "cell_type": "code",
   "execution_count": 131,
   "id": "3068f241",
   "metadata": {},
   "outputs": [],
   "source": [
    "mse = mean_squared_error(y_test, y_predicted)"
   ]
  },
  {
   "cell_type": "code",
   "execution_count": 132,
   "id": "678b4345",
   "metadata": {},
   "outputs": [
    {
     "data": {
      "text/plain": [
       "11.764098875709346"
      ]
     },
     "execution_count": 132,
     "metadata": {},
     "output_type": "execute_result"
    }
   ],
   "source": [
    "mse"
   ]
  },
  {
   "cell_type": "code",
   "execution_count": 133,
   "id": "6da53e0b",
   "metadata": {},
   "outputs": [
    {
     "data": {
      "text/plain": [
       "array([-1833.98729829,  -179.78074034,  -452.96708501, -2790.78138824,\n",
       "       -1102.75159523,  1028.96518584,   732.4191488 ])"
      ]
     },
     "execution_count": 133,
     "metadata": {},
     "output_type": "execute_result"
    }
   ],
   "source": [
    "lin_reg.coef_"
   ]
  },
  {
   "cell_type": "code",
   "execution_count": 134,
   "id": "19ea982f",
   "metadata": {},
   "outputs": [
    {
     "data": {
      "text/plain": [
       "Index(['cylinders', 'displacement', 'horsepower', 'weight', 'acceleration',\n",
       "       'model year', 'origin'],\n",
       "      dtype='object')"
      ]
     },
     "execution_count": 134,
     "metadata": {},
     "output_type": "execute_result"
    }
   ],
   "source": [
    "X_train.columns"
   ]
  },
  {
   "cell_type": "code",
   "execution_count": 136,
   "id": "930fad9a",
   "metadata": {},
   "outputs": [
    {
     "name": "stdout",
     "output_type": "stream",
     "text": [
      "Coefficient for year attribute is 1028.9651858363109\n"
     ]
    }
   ],
   "source": [
    "print('Coefficient for year attribute is',lin_reg.coef_[5] )"
   ]
  },
  {
   "cell_type": "code",
   "execution_count": 162,
   "id": "710ca1c7",
   "metadata": {},
   "outputs": [
    {
     "name": "stdout",
     "output_type": "stream",
     "text": [
      "1028.9651858363109\n"
     ]
    }
   ],
   "source": [
    "print(lin_reg.coef_[X.columns.get_loc('model year')])"
   ]
  },
  {
   "cell_type": "code",
   "execution_count": 163,
   "id": "e52ee310",
   "metadata": {},
   "outputs": [
    {
     "name": "stdout",
     "output_type": "stream",
     "text": [
      "The coeff for attribute cylinders is -1833.9872982924476\n",
      "The coeff for attribute displacement is -179.78074033779927\n",
      "The coeff for attribute horsepower is -452.9670850067602\n",
      "The coeff for attribute weight is -2790.7813882440882\n",
      "The coeff for attribute acceleration is -1102.7515952345905\n",
      "The coeff for attribute model year is 1028.9651858363109\n",
      "The coeff for attribute origin is 732.4191487980496\n"
     ]
    }
   ],
   "source": [
    "for attribute, coeff in zip(X.columns, lin_reg.coef_):\n",
    "    print(f'The coeff for attribute {attribute} is {coeff}')"
   ]
  },
  {
   "cell_type": "markdown",
   "id": "f2fec693",
   "metadata": {},
   "source": [
    "The coefficient are the weightage given(w) to each attribute in the loss function. ie, how important each attribute is while making the prediction"
   ]
  },
  {
   "cell_type": "markdown",
   "id": "46c35b98",
   "metadata": {},
   "source": [
    "# Linear Regression using Lasso and Ridge Regularization"
   ]
  },
  {
   "cell_type": "markdown",
   "id": "240d44d1",
   "metadata": {},
   "source": [
    "## LassoCV"
   ]
  },
  {
   "cell_type": "code",
   "execution_count": 138,
   "id": "98e47d6d",
   "metadata": {},
   "outputs": [],
   "source": [
    "from sklearn.linear_model import LassoCV, RidgeCV"
   ]
  },
  {
   "cell_type": "code",
   "execution_count": 159,
   "id": "c533e349",
   "metadata": {},
   "outputs": [
    {
     "name": "stdout",
     "output_type": "stream",
     "text": [
      "MSE for LassoCV model is  11.950674688701355\n",
      "Optimal alpha value for LassoCV model is  0.0001\n",
      "The coeff for attribute cylinders is -0.0\n",
      "The coeff for attribute displacement is -62.14865535489504\n",
      "The coeff for attribute horsepower is -303.151796580115\n",
      "The coeff for attribute weight is -748.9528984680295\n",
      "The coeff for attribute acceleration is -671.5622820046955\n",
      "The coeff for attribute model year is 992.1332078384246\n",
      "The coeff for attribute origin is 0.0\n"
     ]
    }
   ],
   "source": [
    "lassoCV = LassoCV(alphas=[0.0001, 0.001,0.01, 0.1, 1, 10], random_state=42).fit(X_train_normalized, y_train)\n",
    "lassoCV.score(X_train_normalized, y_train)\n",
    "lassoy_predicted = lassoCV.predict(X_test_normalized)\n",
    "mse_lassoCV = mean_squared_error(y_test, lassoy_predicted)\n",
    "print('MSE for LassoCV model is ', mse_lassoCV)\n",
    "print('Optimal alpha value for LassoCV model is ', lassoCV.alpha_)\n",
    "for attribute, coeff in zip(X.columns, lassoCV.coef_):\n",
    "    print(f'The coeff for attribute {attribute} is {coeff}')"
   ]
  },
  {
   "cell_type": "markdown",
   "id": "56434b81",
   "metadata": {},
   "source": [
    "## RidgeCV"
   ]
  },
  {
   "cell_type": "code",
   "execution_count": 158,
   "id": "d27e21e5",
   "metadata": {},
   "outputs": [
    {
     "name": "stdout",
     "output_type": "stream",
     "text": [
      "RidgeCV Score for Train set is  0.8394017467312205\n",
      "MSE for RidgeCV model is  12.03169897456766\n",
      "Optimal alpha value for RidgeCV model is  0.0001\n",
      "The coeff for attribute cylinders is -173.39562693512445\n",
      "The coeff for attribute displacement is -28.785844027289386\n",
      "The coeff for attribute horsepower is -259.4995646712923\n",
      "The coeff for attribute weight is -320.05023704110766\n",
      "The coeff for attribute acceleration is -424.4939112163312\n",
      "The coeff for attribute model year is 949.7453506555632\n",
      "The coeff for attribute origin is 98.8810617695197\n"
     ]
    }
   ],
   "source": [
    "ridgeCV = RidgeCV(alphas=[0.0001, 0.001,0.01, 0.1, 1, 10]).fit(X_train_normalized, y_train)\n",
    "print('RidgeCV Score for Train set is ', ridgeCV.score(X_train_normalized, y_train))\n",
    "ridgey_predicted = ridgeCV.predict(X_test_normalized)\n",
    "mse_lassoCV = mean_squared_error(y_test, ridgey_predicted)\n",
    "print('MSE for RidgeCV model is ', mse_lassoCV)\n",
    "print('Optimal alpha value for RidgeCV model is ', ridgeCV.alpha_)\n",
    "for attribute, coeff in zip(X.columns, ridgeCV.coef_):\n",
    "    print(f'The coeff for attribute {attribute} is {coeff}')"
   ]
  },
  {
   "cell_type": "markdown",
   "id": "e654c5b4",
   "metadata": {},
   "source": [
    "# Observation"
   ]
  },
  {
   "cell_type": "markdown",
   "id": "4828ad28",
   "metadata": {},
   "source": [
    "If we look at the attribute model year, the normal linear regression model's coefficient stands at 1029 and for lasso and ridge, it stands at 992 and 950 respectively at optimal alpha value 0.0001. The Lasso and Ridge regularization model tends to have shinked the coefficients to smaller values, potentially reducing the impact of attributes on the observed values. We observed how the regularization affects the importance of attributes. In terms of performance the normal linear regression model has a lower value(11.8) when compared to Lasso(11.9) and Ridge(12). But we shouldn't neglect the fact how lasso has neglected the attributes cylinders and origin by shinking them to the centre(coefficent values = 0). Thus, Lasso may be more efficient and a good method for model selection."
   ]
  },
  {
   "cell_type": "code",
   "execution_count": null,
   "id": "f7e57328",
   "metadata": {},
   "outputs": [],
   "source": []
  }
 ],
 "metadata": {
  "kernelspec": {
   "display_name": "Python 3 (ipykernel)",
   "language": "python",
   "name": "python3"
  },
  "language_info": {
   "codemirror_mode": {
    "name": "ipython",
    "version": 3
   },
   "file_extension": ".py",
   "mimetype": "text/x-python",
   "name": "python",
   "nbconvert_exporter": "python",
   "pygments_lexer": "ipython3",
   "version": "3.9.7"
  }
 },
 "nbformat": 4,
 "nbformat_minor": 5
}
